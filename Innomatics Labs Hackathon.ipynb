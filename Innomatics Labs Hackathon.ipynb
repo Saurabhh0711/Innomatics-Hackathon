{
 "cells": [
  {
   "cell_type": "markdown",
   "id": "952f7954",
   "metadata": {},
   "source": [
    "# Innomatics Research Lab Hackathon "
   ]
  },
  {
   "cell_type": "markdown",
   "id": "1b9cfd2f",
   "metadata": {},
   "source": [
    "# Data Analysis"
   ]
  },
  {
   "cell_type": "code",
   "execution_count": 1,
   "id": "70d32ad9",
   "metadata": {},
   "outputs": [],
   "source": [
    "import pandas as pd\n",
    "import numpy as np\n",
    "import matplotlib.pyplot as plt\n",
    "%matplotlib inline\n",
    "import seaborn as sns"
   ]
  },
  {
   "cell_type": "code",
   "execution_count": 2,
   "id": "f338fd2b",
   "metadata": {},
   "outputs": [],
   "source": [
    "data = pd.read_csv(\"dataframe_.csv\")"
   ]
  },
  {
   "cell_type": "code",
   "execution_count": 3,
   "id": "6326f9e3",
   "metadata": {},
   "outputs": [
    {
     "data": {
      "text/html": [
       "<div>\n",
       "<style scoped>\n",
       "    .dataframe tbody tr th:only-of-type {\n",
       "        vertical-align: middle;\n",
       "    }\n",
       "\n",
       "    .dataframe tbody tr th {\n",
       "        vertical-align: top;\n",
       "    }\n",
       "\n",
       "    .dataframe thead th {\n",
       "        text-align: right;\n",
       "    }\n",
       "</style>\n",
       "<table border=\"1\" class=\"dataframe\">\n",
       "  <thead>\n",
       "    <tr style=\"text-align: right;\">\n",
       "      <th></th>\n",
       "      <th>input</th>\n",
       "      <th>output</th>\n",
       "    </tr>\n",
       "  </thead>\n",
       "  <tbody>\n",
       "    <tr>\n",
       "      <th>0</th>\n",
       "      <td>-122.740667</td>\n",
       "      <td>-130.572085</td>\n",
       "    </tr>\n",
       "    <tr>\n",
       "      <th>1</th>\n",
       "      <td>-121.531419</td>\n",
       "      <td>-129.938929</td>\n",
       "    </tr>\n",
       "    <tr>\n",
       "      <th>2</th>\n",
       "      <td>-134.917019</td>\n",
       "      <td>-130.141832</td>\n",
       "    </tr>\n",
       "    <tr>\n",
       "      <th>3</th>\n",
       "      <td>-120.605951</td>\n",
       "      <td>-125.760932</td>\n",
       "    </tr>\n",
       "    <tr>\n",
       "      <th>4</th>\n",
       "      <td>-129.894781</td>\n",
       "      <td>-112.785214</td>\n",
       "    </tr>\n",
       "  </tbody>\n",
       "</table>\n",
       "</div>"
      ],
      "text/plain": [
       "        input      output\n",
       "0 -122.740667 -130.572085\n",
       "1 -121.531419 -129.938929\n",
       "2 -134.917019 -130.141832\n",
       "3 -120.605951 -125.760932\n",
       "4 -129.894781 -112.785214"
      ]
     },
     "execution_count": 3,
     "metadata": {},
     "output_type": "execute_result"
    }
   ],
   "source": [
    "data.head()"
   ]
  },
  {
   "cell_type": "markdown",
   "id": "8a8219fb",
   "metadata": {},
   "source": [
    "As we can see the data has Two columns as Output and Input."
   ]
  },
  {
   "cell_type": "code",
   "execution_count": 4,
   "id": "242f0479",
   "metadata": {},
   "outputs": [
    {
     "name": "stdout",
     "output_type": "stream",
     "text": [
      "<class 'pandas.core.frame.DataFrame'>\n",
      "RangeIndex: 1697 entries, 0 to 1696\n",
      "Data columns (total 2 columns):\n",
      " #   Column  Non-Null Count  Dtype  \n",
      "---  ------  --------------  -----  \n",
      " 0   input   1696 non-null   float64\n",
      " 1   output  1696 non-null   float64\n",
      "dtypes: float64(2)\n",
      "memory usage: 26.6 KB\n"
     ]
    }
   ],
   "source": [
    "data.info()"
   ]
  },
  {
   "cell_type": "markdown",
   "id": "f9bfa376",
   "metadata": {},
   "source": [
    "The data has 1696 Entries and all the entries are of floating type i.e non-integer"
   ]
  },
  {
   "cell_type": "code",
   "execution_count": 5,
   "id": "f10acabd",
   "metadata": {},
   "outputs": [
    {
     "data": {
      "text/html": [
       "<div>\n",
       "<style scoped>\n",
       "    .dataframe tbody tr th:only-of-type {\n",
       "        vertical-align: middle;\n",
       "    }\n",
       "\n",
       "    .dataframe tbody tr th {\n",
       "        vertical-align: top;\n",
       "    }\n",
       "\n",
       "    .dataframe thead th {\n",
       "        text-align: right;\n",
       "    }\n",
       "</style>\n",
       "<table border=\"1\" class=\"dataframe\">\n",
       "  <thead>\n",
       "    <tr style=\"text-align: right;\">\n",
       "      <th></th>\n",
       "      <th>input</th>\n",
       "      <th>output</th>\n",
       "    </tr>\n",
       "  </thead>\n",
       "  <tbody>\n",
       "    <tr>\n",
       "      <th>count</th>\n",
       "      <td>1696.000000</td>\n",
       "      <td>1696.000000</td>\n",
       "    </tr>\n",
       "    <tr>\n",
       "      <th>mean</th>\n",
       "      <td>1.159933</td>\n",
       "      <td>-34.088017</td>\n",
       "    </tr>\n",
       "    <tr>\n",
       "      <th>std</th>\n",
       "      <td>79.005970</td>\n",
       "      <td>65.771112</td>\n",
       "    </tr>\n",
       "    <tr>\n",
       "      <th>min</th>\n",
       "      <td>-134.962839</td>\n",
       "      <td>-132.422167</td>\n",
       "    </tr>\n",
       "    <tr>\n",
       "      <th>25%</th>\n",
       "      <td>-63.386506</td>\n",
       "      <td>-80.026767</td>\n",
       "    </tr>\n",
       "    <tr>\n",
       "      <th>50%</th>\n",
       "      <td>10.195194</td>\n",
       "      <td>-50.470981</td>\n",
       "    </tr>\n",
       "    <tr>\n",
       "      <th>75%</th>\n",
       "      <td>70.264109</td>\n",
       "      <td>-11.000000</td>\n",
       "    </tr>\n",
       "    <tr>\n",
       "      <th>max</th>\n",
       "      <td>134.605775</td>\n",
       "      <td>134.425495</td>\n",
       "    </tr>\n",
       "  </tbody>\n",
       "</table>\n",
       "</div>"
      ],
      "text/plain": [
       "             input       output\n",
       "count  1696.000000  1696.000000\n",
       "mean      1.159933   -34.088017\n",
       "std      79.005970    65.771112\n",
       "min    -134.962839  -132.422167\n",
       "25%     -63.386506   -80.026767\n",
       "50%      10.195194   -50.470981\n",
       "75%      70.264109   -11.000000\n",
       "max     134.605775   134.425495"
      ]
     },
     "execution_count": 5,
     "metadata": {},
     "output_type": "execute_result"
    }
   ],
   "source": [
    "data.describe()"
   ]
  },
  {
   "cell_type": "code",
   "execution_count": 6,
   "id": "aa1ced36",
   "metadata": {},
   "outputs": [
    {
     "data": {
      "text/plain": [
       "(1697, 2)"
      ]
     },
     "execution_count": 6,
     "metadata": {},
     "output_type": "execute_result"
    }
   ],
   "source": [
    "data.shape"
   ]
  },
  {
   "cell_type": "code",
   "execution_count": 7,
   "id": "9c6b4154",
   "metadata": {},
   "outputs": [
    {
     "data": {
      "text/plain": [
       "-125.366669    11\n",
       " 112.633331    10\n",
       "-131.366669     8\n",
       "-119.366669     8\n",
       " 80.633331      7\n",
       "               ..\n",
       "-14.879573      1\n",
       "-7.366669       1\n",
       " 0.106496       1\n",
       " 0.641190       1\n",
       "-110.344221     1\n",
       "Name: input, Length: 991, dtype: int64"
      ]
     },
     "execution_count": 7,
     "metadata": {},
     "output_type": "execute_result"
    }
   ],
   "source": [
    "input_count = data[\"input\"].value_counts()\n",
    "input_count"
   ]
  },
  {
   "cell_type": "markdown",
   "id": "5a33583d",
   "metadata": {},
   "source": [
    "# Data Visualization"
   ]
  },
  {
   "cell_type": "code",
   "execution_count": 8,
   "id": "a74bb9ed",
   "metadata": {},
   "outputs": [
    {
     "data": {
      "image/png": "[encoded data removed]",
      "text/plain": [
       "<Figure size 576x576 with 1 Axes>"
      ]
     },
     "metadata": {
      "needs_background": "light"
     },
     "output_type": "display_data"
    }
   ],
   "source": [
    "# Visualize it through a bar chart\n",
    "plt.figure(figsize=(8,8))\n",
    "sns.barplot(x=input_count.values, y=input_count.index)\n",
    "plt.title(\"All Input counts\", fontsize=14, fontweight=\"heavy\")\n",
    "plt.show()"
   ]
  },
  {
   "cell_type": "markdown",
   "id": "8917619f",
   "metadata": {},
   "source": [
    "As we can see here as the input counts are increasing the value of the particular entry also increases \n",
    "For Eg:- The highest input value is 125.366669 which also has the highest number of Counts in it.\n",
    "          And on the other hand the value-110.344221 has the lowest count in the dataset."
   ]
  },
  {
   "cell_type": "code",
   "execution_count": 9,
   "id": "52d70664",
   "metadata": {},
   "outputs": [
    {
     "data": {
      "image/png": "[encoded data removed]",
      "text/plain": [
       "<Figure size 648x648 with 1 Axes>"
      ]
     },
     "metadata": {
      "needs_background": "light"
     },
     "output_type": "display_data"
    }
   ],
   "source": [
    "sns.pairplot(data,x_vars=['input'], y_vars='output',height=9)\n",
    "plt.show()"
   ]
  },
  {
   "cell_type": "markdown",
   "id": "12b47c68",
   "metadata": {},
   "source": [
    "-As we Can see in the above plot that the values of input and output are distributed in a wavy format i.e the values are firstly started below the x-axis with the negative values and then increased upto 0 and then again decreased till -130 and then incresed till the end value.\n",
    "\n",
    "-The plot also has two bounds at 0 and -100 approx.\n",
    "\n",
    "-The plot also has some outliers which range above 100 in output and -100 in input.\n",
    "\n"
   ]
  },
  {
   "cell_type": "code",
   "execution_count": 10,
   "id": "72c3484f",
   "metadata": {},
   "outputs": [
    {
     "data": {
      "image/png": "[encoded data removed]",
      "text/plain": [
       "<Figure size 432x288 with 2 Axes>"
      ]
     },
     "metadata": {
      "needs_background": "light"
     },
     "output_type": "display_data"
    }
   ],
   "source": [
    "sns.heatmap(data.corr(),cmap=\"YlGnBu\", annot=True)\n",
    "plt.show()"
   ]
  },
  {
   "cell_type": "markdown",
   "id": "43426f60",
   "metadata": {},
   "source": [
    "By analyzing the heat map we can conclude that input and output has 0.51 degree of linear relationship"
   ]
  },
  {
   "cell_type": "markdown",
   "id": "3a865eb3",
   "metadata": {},
   "source": [
    "# Data Cleaning"
   ]
  },
  {
   "cell_type": "code",
   "execution_count": 11,
   "id": "15cc8962",
   "metadata": {},
   "outputs": [
    {
     "data": {
      "text/plain": [
       "-0.20318515325323347"
      ]
     },
     "execution_count": 11,
     "metadata": {},
     "output_type": "execute_result"
    }
   ],
   "source": [
    "data['input'].skew()"
   ]
  },
  {
   "cell_type": "code",
   "execution_count": 12,
   "id": "16104ca9",
   "metadata": {},
   "outputs": [
    {
     "data": {
      "text/plain": [
       "1.0573226471779904"
      ]
     },
     "execution_count": 12,
     "metadata": {},
     "output_type": "execute_result"
    }
   ],
   "source": [
    "data['output'].skew()"
   ]
  },
  {
   "cell_type": "markdown",
   "id": "a4ef6d62",
   "metadata": {},
   "source": [
    "As we can see here the input variable is left tailed whereas output variable is right tailed"
   ]
  },
  {
   "cell_type": "code",
   "execution_count": 13,
   "id": "9198a2bf",
   "metadata": {},
   "outputs": [
    {
     "data": {
      "text/plain": [
       "count    1696.000000\n",
       "mean        1.159933\n",
       "std        79.005970\n",
       "min      -134.962839\n",
       "25%       -63.386506\n",
       "50%        10.195194\n",
       "75%        70.264109\n",
       "max       134.605775\n",
       "Name: input, dtype: float64"
      ]
     },
     "execution_count": 13,
     "metadata": {},
     "output_type": "execute_result"
    }
   ],
   "source": [
    "data['input'].describe()"
   ]
  },
  {
   "cell_type": "code",
   "execution_count": 14,
   "id": "0ea8bd4c",
   "metadata": {},
   "outputs": [
    {
     "data": {
      "text/plain": [
       "count    1696.000000\n",
       "mean      -34.088017\n",
       "std        65.771112\n",
       "min      -132.422167\n",
       "25%       -80.026767\n",
       "50%       -50.470981\n",
       "75%       -11.000000\n",
       "max       134.425495\n",
       "Name: output, dtype: float64"
      ]
     },
     "execution_count": 14,
     "metadata": {},
     "output_type": "execute_result"
    }
   ],
   "source": [
    "data['output'].describe()"
   ]
  },
  {
   "cell_type": "code",
   "execution_count": 15,
   "id": "f1078da5",
   "metadata": {},
   "outputs": [
    {
     "data": {
      "text/plain": [
       "input     True\n",
       "output    True\n",
       "dtype: bool"
      ]
     },
     "execution_count": 15,
     "metadata": {},
     "output_type": "execute_result"
    }
   ],
   "source": [
    "data.isna().any()"
   ]
  },
  {
   "cell_type": "markdown",
   "id": "9dd2386b",
   "metadata": {},
   "source": [
    "We can see that there are nan values in the dataset."
   ]
  },
  {
   "cell_type": "code",
   "execution_count": 16,
   "id": "7deea0c5",
   "metadata": {},
   "outputs": [
    {
     "data": {
      "text/plain": [
       "input     True\n",
       "output    True\n",
       "dtype: bool"
      ]
     },
     "execution_count": 16,
     "metadata": {},
     "output_type": "execute_result"
    }
   ],
   "source": [
    "data.isnull().any()"
   ]
  },
  {
   "cell_type": "code",
   "execution_count": 17,
   "id": "527140ba",
   "metadata": {},
   "outputs": [],
   "source": [
    "data.replace([np.inf, -np.inf], np.nan, inplace=True)"
   ]
  },
  {
   "cell_type": "code",
   "execution_count": 18,
   "id": "1475b5ab",
   "metadata": {},
   "outputs": [],
   "source": [
    "data.dropna(inplace=True)"
   ]
  },
  {
   "cell_type": "markdown",
   "id": "10986469",
   "metadata": {},
   "source": [
    "Here We have removed all the null and infinite values which will be a threat for accurate score."
   ]
  },
  {
   "cell_type": "markdown",
   "id": "fe758b15",
   "metadata": {},
   "source": [
    "# Model Building"
   ]
  },
  {
   "cell_type": "code",
   "execution_count": 19,
   "id": "21e0e5c7",
   "metadata": {},
   "outputs": [],
   "source": [
    "from sklearn import preprocessing\n",
    "pre_process = preprocessing.StandardScaler()"
   ]
  },
  {
   "cell_type": "code",
   "execution_count": 20,
   "id": "5d91fdc8",
   "metadata": {},
   "outputs": [],
   "source": [
    "# Putting feature variable to X\n",
    "X = data.iloc[:,0:1]\n",
    "\n",
    "# Putting response variable to y\n",
    "y = data.iloc[:,1]"
   ]
  },
  {
   "cell_type": "code",
   "execution_count": 21,
   "id": "d600670f",
   "metadata": {},
   "outputs": [
    {
     "data": {
      "text/html": [
       "<div>\n",
       "<style scoped>\n",
       "    .dataframe tbody tr th:only-of-type {\n",
       "        vertical-align: middle;\n",
       "    }\n",
       "\n",
       "    .dataframe tbody tr th {\n",
       "        vertical-align: top;\n",
       "    }\n",
       "\n",
       "    .dataframe thead th {\n",
       "        text-align: right;\n",
       "    }\n",
       "</style>\n",
       "<table border=\"1\" class=\"dataframe\">\n",
       "  <thead>\n",
       "    <tr style=\"text-align: right;\">\n",
       "      <th></th>\n",
       "      <th>input</th>\n",
       "    </tr>\n",
       "  </thead>\n",
       "  <tbody>\n",
       "    <tr>\n",
       "      <th>0</th>\n",
       "      <td>-122.740667</td>\n",
       "    </tr>\n",
       "    <tr>\n",
       "      <th>1</th>\n",
       "      <td>-121.531419</td>\n",
       "    </tr>\n",
       "    <tr>\n",
       "      <th>2</th>\n",
       "      <td>-134.917019</td>\n",
       "    </tr>\n",
       "    <tr>\n",
       "      <th>3</th>\n",
       "      <td>-120.605951</td>\n",
       "    </tr>\n",
       "    <tr>\n",
       "      <th>4</th>\n",
       "      <td>-129.894781</td>\n",
       "    </tr>\n",
       "  </tbody>\n",
       "</table>\n",
       "</div>"
      ],
      "text/plain": [
       "        input\n",
       "0 -122.740667\n",
       "1 -121.531419\n",
       "2 -134.917019\n",
       "3 -120.605951\n",
       "4 -129.894781"
      ]
     },
     "execution_count": 21,
     "metadata": {},
     "output_type": "execute_result"
    }
   ],
   "source": [
    "X.head()"
   ]
  },
  {
   "cell_type": "code",
   "execution_count": 22,
   "id": "49c4d71f",
   "metadata": {},
   "outputs": [
    {
     "data": {
      "text/plain": [
       "0   -130.572085\n",
       "1   -129.938929\n",
       "2   -130.141832\n",
       "3   -125.760932\n",
       "4   -112.785214\n",
       "Name: output, dtype: float64"
      ]
     },
     "execution_count": 22,
     "metadata": {},
     "output_type": "execute_result"
    }
   ],
   "source": [
    "y.head()"
   ]
  },
  {
   "cell_type": "code",
   "execution_count": 23,
   "id": "1a110ed7",
   "metadata": {},
   "outputs": [],
   "source": [
    "#random_state is the seed used by the random number generator, it can be any integer.\n",
    "from sklearn.model_selection import train_test_split\n",
    "X_train, X_test, y_train, y_test = train_test_split(X, y, train_size=0.7 ,test_size = 0.3, random_state=2)"
   ]
  },
  {
   "cell_type": "code",
   "execution_count": 24,
   "id": "658e7105",
   "metadata": {},
   "outputs": [
    {
     "name": "stdout",
     "output_type": "stream",
     "text": [
      "(1187, 1)\n",
      "(509, 1)\n",
      "(1187,)\n",
      "(509,)\n"
     ]
    }
   ],
   "source": [
    "print(X_train.shape)\n",
    "print(X_test.shape)\n",
    "print(y_train.shape)\n",
    "print(y_test.shape)"
   ]
  },
  {
   "cell_type": "code",
   "execution_count": 25,
   "id": "6f58797a",
   "metadata": {},
   "outputs": [],
   "source": [
    "from sklearn.linear_model import LinearRegression"
   ]
  },
  {
   "cell_type": "code",
   "execution_count": 26,
   "id": "aa6dc9b7",
   "metadata": {},
   "outputs": [],
   "source": [
    "lm = LinearRegression()"
   ]
  },
  {
   "cell_type": "code",
   "execution_count": 27,
   "id": "462a8e41",
   "metadata": {},
   "outputs": [],
   "source": [
    "def clean_dataset(X_train):\n",
    "    assert isinstance(X_train, pd.DataFrame)\n",
    "    X_train.dropna(inplace=True)\n",
    "    indices_to_keep = ~X_train.isin([np.nan, np.inf, -np.inf]).any(axis=1)\n",
    "    return X_train[indices_to_keep].astype(np.float64)"
   ]
  },
  {
   "cell_type": "code",
   "execution_count": 28,
   "id": "34533285",
   "metadata": {},
   "outputs": [
    {
     "data": {
      "text/plain": [
       "LinearRegression()"
      ]
     },
     "execution_count": 28,
     "metadata": {},
     "output_type": "execute_result"
    }
   ],
   "source": [
    "# fit the model to the training data\n",
    "lm.fit(X_train, y_train)"
   ]
  },
  {
   "cell_type": "code",
   "execution_count": 29,
   "id": "a7180a68",
   "metadata": {},
   "outputs": [
    {
     "data": {
      "text/plain": [
       "array([0.40128087])"
      ]
     },
     "execution_count": 29,
     "metadata": {},
     "output_type": "execute_result"
    }
   ],
   "source": [
    "lm.coef_"
   ]
  },
  {
   "cell_type": "code",
   "execution_count": 30,
   "id": "b4e6d244",
   "metadata": {},
   "outputs": [
    {
     "data": {
      "text/plain": [
       "0.30135190753182073"
      ]
     },
     "execution_count": 30,
     "metadata": {},
     "output_type": "execute_result"
    }
   ],
   "source": [
    "lm.score(X_test, y_test)"
   ]
  },
  {
   "cell_type": "code",
   "execution_count": 31,
   "id": "bb69941e",
   "metadata": {},
   "outputs": [
    {
     "data": {
      "text/plain": [
       "array([-84.50290891, -34.21391637,  -4.97607982, -56.38158407,\n",
       "       -60.14363222, -42.26664457, -37.1614574 ,  12.73594565,\n",
       "       -66.56608231, -14.95243451,   0.64806645, -39.44071929,\n",
       "       -33.35374725,   0.6748034 ,  -1.71016574, -31.08114272,\n",
       "       -55.24104953, -19.3665241 , -26.71119186, -42.723406  ,\n",
       "         6.68358461, -76.99157496, -22.17549021, -31.65581351,\n",
       "       -14.55115364, -49.10755398, -39.69796259, -19.68139994,\n",
       "       -79.88352912, -39.83184857,  -2.09319   , -34.21536191,\n",
       "       -34.8166902 ,   7.92057519,   0.22076516, -25.41228492,\n",
       "       -85.57786797, -40.61053613, -55.67671447, -40.40221369,\n",
       "         1.29459222, -47.62964159, -12.71592918,  10.72954129,\n",
       "         7.29785806, -54.60784108, -76.81416403, -32.98658237,\n",
       "       -84.98508519,   9.92697955, -37.56541611,  13.53850739,\n",
       "       -14.86339062, -53.1971448 , -17.08610258, -56.17274832,\n",
       "       -52.21885487,   5.91417083, -12.14346841,   6.65630019,\n",
       "         8.96477924, -21.37292846, -80.41652723, -16.05911499,\n",
       "       -85.97914884, -36.22032073,   1.59891497, -11.89653126,\n",
       "       -83.9170154 ,  12.56322702, -15.39870425, -84.30901669,\n",
       "         5.98846285, -80.76249751, -39.61706077, -69.76860226,\n",
       "       -71.18128543,  -6.05204078,   5.11160908, -75.68464313,\n",
       "       -14.95679087,  -5.37951853, -77.09210818, -10.63759221,\n",
       "       -44.39587417, -74.62885946, -88.60300063, -49.64525457,\n",
       "       -15.36383941, -27.90916532, -76.98777467,  13.79425971,\n",
       "       -18.24668675, -79.30841514, -80.88662737, -83.97274448,\n",
       "       -48.83082078,   0.69751949, -67.11894786,   6.37119888,\n",
       "       -57.88948781, -82.06629096, -77.67878174,  -1.29943331,\n",
       "       -73.51635571, -12.03000383, -18.10069204, -87.9408705 ,\n",
       "       -29.63585276, -45.85106165, -70.59301089,   9.52569868,\n",
       "         3.10520472,  -4.16432832, -34.61519724, -31.00383509,\n",
       "       -68.76686297, -18.44517977,  -5.25388646, -20.97274604,\n",
       "       -89.56902093, -35.45569418, -85.57786797, -67.71488827,\n",
       "       -39.40829309, -12.47276586, -86.48916528, -23.99805719,\n",
       "        -5.72297446, -83.9170154 ,   4.64376896, -29.79982677,\n",
       "         9.84125745,   6.75322397, -29.63585276, -34.61519724,\n",
       "       -87.9855532 , -69.49327094, -43.30645119,  -2.02159752,\n",
       "        12.71823837,   7.72055252, -81.128333  , -25.78701805,\n",
       "       -81.96634013, -78.75609315, -13.56789078,   8.52324521,\n",
       "        11.37441611,   5.89273922,  14.37901534,  -2.7825962 ,\n",
       "        11.53210304, -78.16481052,  -8.13065969, -72.85027618,\n",
       "       -24.96060378,  -7.40015646,  -1.33840631,  -7.3763023 ,\n",
       "        -4.51913184, -37.55322547, -19.23911801, -43.84465729,\n",
       "       -14.03618305, -56.87835297, -69.92791397, -84.06876394,\n",
       "       -39.44071929, -14.95243451, -25.41228492, -25.23538261,\n",
       "       -13.34731102, -34.21391637,  -1.65321873, -74.47510146,\n",
       "       -53.07411735,   9.50792948, -53.92845819, -80.31587527,\n",
       "       -25.9342451 , -28.33860887,   7.11801344, -46.96756329,\n",
       "       -80.23175516,  14.34106914, -29.35557149, -79.25278898,\n",
       "       -20.9372141 , -37.83086223, -87.9408705 , -79.43342087,\n",
       "       -54.27795996, -24.61443826, -52.6810663 , -66.63906078,\n",
       "        -7.11635968, -34.61519724,  11.93338391,  -7.39457609,\n",
       "       -74.47323256,  -9.87663208, -82.70752014, -85.98536485,\n",
       "         1.8661974 , -25.9342451 , -63.10981327, -81.58265847,\n",
       "       -74.47510146, -82.10155677, -72.20532199, -47.62964159,\n",
       "       -41.83825293,   5.78164999, -44.78653624, -83.57146361,\n",
       "         9.30689563,  10.1668362 ,  13.53850739, -42.96890921,\n",
       "         2.48583702,   1.72670482, -69.49327094,   9.52569868,\n",
       "         9.24016073,   7.11801344, -29.79982677, -32.20751201,\n",
       "       -34.64225969, -10.29095328, -34.8166902 , -83.97274448,\n",
       "       -61.09973478,  -2.09319   ,  12.90718998, -26.18829893,\n",
       "       -77.76888599,  11.58283894,  -5.4758256 ,  -8.99912973,\n",
       "        13.53850739, -31.65581351, -24.58317544, -29.79982677,\n",
       "        -2.30310297, -84.2510536 , -81.92674703, -56.86985794,\n",
       "       -10.93962579, -21.08910741,   0.29623862, -13.7485919 ,\n",
       "       -83.57146361, -20.62714712, -33.01007375, -88.38683408,\n",
       "       -52.2715556 , -29.3985459 ,  18.34282012, -80.42662341,\n",
       "       -13.68224175,  -4.99779743, -10.48482736, -47.23260047,\n",
       "       -56.28436432, -47.23260047, -15.86870428, -46.70319565,\n",
       "       -82.54950223, -14.95679087, -40.65126095,  17.70809779,\n",
       "       -36.03562846, -79.55865489, -22.314011  , -26.26462047,\n",
       "       -53.07411735, -18.03743113, -14.55115364, -53.22385005,\n",
       "       -23.68177177, -63.3115029 , -83.00117684, -61.10769514,\n",
       "       -20.11786742,   9.60886955, -30.20466987, -77.15096966,\n",
       "         9.52569868,  -6.5255362 , -70.10525607,  16.025772  ,\n",
       "       -24.58317544, -41.03569119, -84.89192587, -31.31247735,\n",
       "       -78.2452425 , -89.81152174, -22.54043412,  -5.36087905,\n",
       "       -13.44437569,  -0.91627341, -31.80882825, -71.54733778,\n",
       "       -33.86802005, -79.83138672,   6.75322397, -38.84994031,\n",
       "        -9.42086417, -26.18829893, -45.85437507,  17.8424868 ,\n",
       "       -50.82634143, -24.04418446, -18.67375376, -12.03000383,\n",
       "       -63.50742002,  -2.30310297, -21.51376565,  14.99293334,\n",
       "        -2.46020768, -28.14923834,  -6.1916541 , -19.18075982,\n",
       "         6.49292579, -36.22337227, -81.96634013,  -3.2678598 ,\n",
       "       -79.15737402,  -1.76428503, -59.31319876, -64.30998176,\n",
       "         1.37298646, -33.36484392, -59.75422504, -17.35358148,\n",
       "        12.09049119,   1.8661974 , -79.95993577,   9.52569868,\n",
       "       -47.53038326,  18.28559976, -18.56396236, -28.53530141,\n",
       "       -38.69900666, -88.38683408, -31.3784926 , -38.47894766,\n",
       "         1.18538597, -48.25874688,  -3.31528923,  -8.77551395,\n",
       "       -80.88662737, -30.60238852, -32.39060248, -85.57786797,\n",
       "        -8.79131891, -86.78171059,  -2.57016077, -22.28862179,\n",
       "       -47.05490427, -36.0034295 , -72.20532199,  -8.13065969,\n",
       "       -68.13283353, -68.97494679, -10.13706405, -76.34840792,\n",
       "       -77.16827261, -11.06228127, -41.97262542, -21.51376565,\n",
       "       -86.13041299, -33.01007375, -77.67878174,  -5.04781663,\n",
       "       -46.7842483 ,  -9.42086417, -80.80308972,  -5.25388646,\n",
       "       -89.82990827, -78.28760608,  -4.69414761,   5.98846285,\n",
       "         3.73335952,   9.50792948, -17.09747614,  16.58123313,\n",
       "       -88.38683408,   5.90754388, -63.10981327, -31.11766937,\n",
       "       -56.86985794, -78.75609315, -15.47373122, -46.7842483 ,\n",
       "         7.72055252,  -5.81139704, -88.38683408, -80.80694189,\n",
       "       -18.26113247, -33.22194256,  12.71823837, -29.92308066,\n",
       "       -41.03569119,  -7.22106704, -79.21073278,  -2.93489064,\n",
       "       -44.02126759, -13.8282341 , -55.6403582 ,   9.92697955,\n",
       "       -37.56541611, -79.50803965, -33.08841692, -57.08692607,\n",
       "       -68.62048194, -47.05490427,  12.73594565, -23.99805719,\n",
       "       -12.03012296, -81.40312818, -77.09210818, -13.41073333,\n",
       "       -35.69334882, -18.10069204, -43.44337642, -23.26203167,\n",
       "       -75.64529375,  -4.93613592, -47.02071134, -74.91188003,\n",
       "       -82.29974927,   0.77333816, -20.94809663, -46.70319565,\n",
       "       -20.91087683, -23.76529979, -31.65801588, -41.46422813,\n",
       "       -83.47111675,   4.71032821, -10.67736107, -23.26935991,\n",
       "         4.33027956,   2.7059939 , -70.69127306,   2.88449312,\n",
       "       -32.22112334, -27.79342241, -74.74328443, -22.02096925,\n",
       "        -4.51913184,  13.29056341, -84.06876394, -83.80151099,\n",
       "         3.77662786, -85.57786797, -52.67283647, -28.59598416,\n",
       "       -33.22194256, -55.88308345,  -3.62989617, -46.69538382,\n",
       "        14.85603637,   2.7059939 ,   4.19057361,  11.93338391,\n",
       "       -31.95949168, -41.64380866, -54.68175459, -22.54202597,\n",
       "        -8.8317384 , -69.76860226, -38.61891343, -20.97164759,\n",
       "       -77.12144659,   7.69929936,  10.30422711, -78.00889685,\n",
       "       -82.13630533,  -4.91030462,   5.44161718, -37.752594  ,\n",
       "       -19.71567705, -46.15767816, -55.53429666, -47.98401626,\n",
       "       -88.67314505,   9.32699871, -48.91583093, -83.92847743,\n",
       "        -6.91329091, -40.39207524, -51.37448762, -85.86636946,\n",
       "         2.31665559, -61.09973478, -12.14346841, -39.06710926,\n",
       "       -84.77530623,   8.53986052, -76.60152466, -28.59274832,\n",
       "         5.03906392, -81.04772992,   7.1805241 , -44.39587417,\n",
       "       -15.48096894])"
      ]
     },
     "execution_count": 31,
     "metadata": {},
     "output_type": "execute_result"
    }
   ],
   "source": [
    "y_pred = lm.predict(X_test)\n",
    "y_pred"
   ]
  },
  {
   "cell_type": "code",
   "execution_count": 32,
   "id": "e081f9b0",
   "metadata": {},
   "outputs": [],
   "source": [
    "from sklearn import metrics\n",
    "\n",
    "MAE= metrics.mean_absolute_error(y_test, y_pred)\n",
    "MSE=metrics.mean_squared_error(y_test, y_pred)\n",
    "RMSE= np.sqrt(MSE)"
   ]
  },
  {
   "cell_type": "code",
   "execution_count": 33,
   "id": "2c1a4b57",
   "metadata": {},
   "outputs": [
    {
     "data": {
      "text/plain": [
       "57.16275875552226"
      ]
     },
     "execution_count": 33,
     "metadata": {},
     "output_type": "execute_result"
    }
   ],
   "source": [
    "RMSE"
   ]
  },
  {
   "cell_type": "code",
   "execution_count": 34,
   "id": "684cce0b",
   "metadata": {},
   "outputs": [
    {
     "data": {
      "text/plain": [
       "43.668407924371735"
      ]
     },
     "execution_count": 34,
     "metadata": {},
     "output_type": "execute_result"
    }
   ],
   "source": [
    "MAE"
   ]
  },
  {
   "cell_type": "code",
   "execution_count": 35,
   "id": "4a5ccfb6",
   "metadata": {},
   "outputs": [
    {
     "data": {
      "text/plain": [
       "3267.580988542037"
      ]
     },
     "execution_count": 35,
     "metadata": {},
     "output_type": "execute_result"
    }
   ],
   "source": [
    "MSE"
   ]
  },
  {
   "cell_type": "markdown",
   "id": "d9030360",
   "metadata": {},
   "source": [
    "Here From linear regression model we have got a RMSE score of 57.16 which is root mean squred error."
   ]
  },
  {
   "cell_type": "code",
   "execution_count": null,
   "id": "7a8ef2ab",
   "metadata": {},
   "outputs": [],
   "source": []
  }
 ],
 "metadata": {
  "kernelspec": {
   "display_name": "Python 3 (ipykernel)",
   "language": "python",
   "name": "python3"
  },
  "language_info": {
   "codemirror_mode": {
    "name": "ipython",
    "version": 3
   },
   "file_extension": ".py",
   "mimetype": "text/x-python",
   "name": "python",
   "nbconvert_exporter": "python",
   "pygments_lexer": "ipython3",
   "version": "3.10.2"
  }
 },
 "nbformat": 4,
 "nbformat_minor": 5
}
